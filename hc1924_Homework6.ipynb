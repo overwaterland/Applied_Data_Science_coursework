{
 "cells": [
  {
   "cell_type": "markdown",
   "metadata": {},
   "source": [
    "# Homework 6"
   ]
  },
  {
   "cell_type": "code",
   "execution_count": 1,
   "metadata": {
    "collapsed": false,
    "scrolled": false
   },
   "outputs": [
    {
     "name": "stdout",
     "output_type": "stream",
     "text": [
      "Populating the interactive namespace from numpy and matplotlib\n"
     ]
    }
   ],
   "source": [
    "import numpy as np\n",
    "import pandas as pd\n",
    "%pylab inline\n",
    "import matplotlib.pyplot as plt\n",
    "#import Quandl\n",
    "import statsmodels.formula.api as smf\n",
    "from scipy import stats\n",
    "from pandas.stats.api import ols\n",
    "from sklearn import linear_model\n",
    "pylab.rcParams['figure.figsize'] = [12,8]"
   ]
  },
  {
   "cell_type": "markdown",
   "metadata": {},
   "source": [
    "# Task 1 (5% credit) \n",
    "Provide a definition for the concept of a conjugate prior given the Bayesian learning model. What is the conjugate prior for the univariate linear regression $y\\sim {\\cal N}(wx,\\sigma^2)$ with a fixed $\\sigma$?"
   ]
  },
  {
   "cell_type": "markdown",
   "metadata": {},
   "source": [
    "### If the posterior distributions p(θ|x) are in the same family as the prior probability distribution p(θ), the prior and posterior are then called conjugate distributions, and the prior is called a conjugate prior for the likelihood function.\n",
    "### If the likelihood function is Gaussian, choosing a Gaussian prior over the mean will ensure that the posterior distribution is also Gaussian. This means that the Gaussian distribution is a conjugate prior for the likelihood that is also Gaussian."
   ]
  },
  {
   "cell_type": "markdown",
   "metadata": {},
   "source": [
    "# Task 2 (5% credit). \n",
    "Which prior in the Bayesian linear regression framework leads to: a) Ridge regression, b) Lasso regression?\n"
   ]
  },
  {
   "cell_type": "markdown",
   "metadata": {
    "collapsed": true
   },
   "source": [
    "#### All the components of $w$ having the same prior $w_j\\sim{\\cal N}(0,\\sigma/\\sqrt{\\lambda})$ leads to Ridge regression.\n",
    "#### The Laplacian prior distribution $p(w_j)\\sim e^{-\\lambda|w_j|/\\sigma}$ leads to Lasso regression."
   ]
  },
  {
   "cell_type": "markdown",
   "metadata": {},
   "source": [
    "# Task 3 (10% credit). \n",
    "Answer some questions about the properties of Lasso/Ridge:\n",
    "\n",
    "a) Which of the Lasso and Ridge regressions possess an analytic solution in the closed form?"
   ]
  },
  {
   "cell_type": "markdown",
   "metadata": {},
   "source": [
    "#### Ridge regression"
   ]
  },
  {
   "cell_type": "markdown",
   "metadata": {},
   "source": [
    "b) Which of the Lasso and Ridge regressions often use to completely eliminate coefficients for some of the regressors?"
   ]
  },
  {
   "cell_type": "markdown",
   "metadata": {},
   "source": [
    "#### Lasson regression"
   ]
  },
  {
   "cell_type": "markdown",
   "metadata": {},
   "source": [
    "c) Which value of $\\lambda$ makes Lasso and Ridge identical to the ordinary least square regression?"
   ]
  },
  {
   "cell_type": "markdown",
   "metadata": {},
   "source": [
    "#### when $\\lambda$ = 0 "
   ]
  },
  {
   "cell_type": "markdown",
   "metadata": {},
   "source": [
    "d) What dataset (training, validation or test) you would use to estimate the $\\lambda$ for Lasso or Ridge?"
   ]
  },
  {
   "cell_type": "markdown",
   "metadata": {},
   "source": [
    "#### validation dataset"
   ]
  },
  {
   "cell_type": "markdown",
   "metadata": {},
   "source": [
    "# Task 4 (15% credit). \n",
    "Consider a Bayesian univariate linear regression $y\\sim {\\cal N}(wx,\\sigma^2)$ with a given $\\sigma=1$ and the prior $w\\sim {\\cal N}(5,1)$. Compute the posterior distribution after an observation $y=12,x=2$. After all, what is the probability of having $w<5$?"
   ]
  },
  {
   "cell_type": "code",
   "execution_count": 218,
   "metadata": {
    "collapsed": false
   },
   "outputs": [
    {
     "name": "stdout",
     "output_type": "stream",
     "text": [
      "The probability of having w < 5 is: 0.0368191350602\n"
     ]
    }
   ],
   "source": [
    "import scipy.stats as stats\n",
    "print (\"The probability of having w < 5 is: {}\".format(stats.norm.cdf(5, loc=5.8, scale=1/5**0.5)))"
   ]
  },
  {
   "cell_type": "markdown",
   "metadata": {},
   "source": [
    "# Task 5 (20% credit). \n",
    "For the training and test sets provided below, train a linear regression of $y$ (last column) vs the rest of the columns of the table treated as regressors (intercept excluded) over the training set, apply it to the test set and report it's R2 performance over both - training and test set."
   ]
  },
  {
   "cell_type": "code",
   "execution_count": 203,
   "metadata": {
    "collapsed": false
   },
   "outputs": [],
   "source": [
    "data_train=pd.read_csv(\"https://serv.cusp.nyu.edu/classes/ML_2016_Spring/session2/HW/Homework1_training.csv\")\n",
    "y_train=np.asarray(data_train.iloc[:,-1]) # make dependent variable\n",
    "X_train=np.asarray(data_train.iloc[:,1:-2]) #make independent variables\n",
    "\n",
    "data_test=pd.read_csv(\"https://serv.cusp.nyu.edu/classes/ML_2016_Spring/session2/HW/Homework1_test.csv\")\n",
    "y_test=np.asarray(data_test.iloc[:,-1]) # make dependent variable\n",
    "X_test=np.asarray(data_test.iloc[:,1:-2]) #make independent variables\n"
   ]
  },
  {
   "cell_type": "markdown",
   "metadata": {},
   "source": [
    "#### The column 39 has been left and I'm not sure why..."
   ]
  },
  {
   "cell_type": "code",
   "execution_count": 185,
   "metadata": {
    "collapsed": false
   },
   "outputs": [
    {
     "data": {
      "text/plain": [
       "(30, 42)"
      ]
     },
     "execution_count": 185,
     "metadata": {},
     "output_type": "execute_result"
    }
   ],
   "source": [
    "data_train.shape"
   ]
  },
  {
   "cell_type": "code",
   "execution_count": 186,
   "metadata": {
    "collapsed": false
   },
   "outputs": [
    {
     "data": {
      "text/html": [
       "<div>\n",
       "<table border=\"1\" class=\"dataframe\">\n",
       "  <thead>\n",
       "    <tr style=\"text-align: right;\">\n",
       "      <th></th>\n",
       "      <th>Unnamed: 0</th>\n",
       "      <th>0</th>\n",
       "      <th>1</th>\n",
       "      <th>2</th>\n",
       "      <th>3</th>\n",
       "      <th>4</th>\n",
       "      <th>5</th>\n",
       "      <th>6</th>\n",
       "      <th>7</th>\n",
       "      <th>8</th>\n",
       "      <th>...</th>\n",
       "      <th>31</th>\n",
       "      <th>32</th>\n",
       "      <th>33</th>\n",
       "      <th>34</th>\n",
       "      <th>35</th>\n",
       "      <th>36</th>\n",
       "      <th>37</th>\n",
       "      <th>38</th>\n",
       "      <th>39</th>\n",
       "      <th>40</th>\n",
       "    </tr>\n",
       "  </thead>\n",
       "  <tbody>\n",
       "    <tr>\n",
       "      <th>0</th>\n",
       "      <td>0</td>\n",
       "      <td>97.0</td>\n",
       "      <td>84.993531</td>\n",
       "      <td>24.300457</td>\n",
       "      <td>30.863846</td>\n",
       "      <td>-50.066189</td>\n",
       "      <td>18.879159</td>\n",
       "      <td>167.926580</td>\n",
       "      <td>93.749684</td>\n",
       "      <td>177.561130</td>\n",
       "      <td>...</td>\n",
       "      <td>42.0</td>\n",
       "      <td>65.0</td>\n",
       "      <td>36.0</td>\n",
       "      <td>34.0</td>\n",
       "      <td>60.0</td>\n",
       "      <td>23.0</td>\n",
       "      <td>44.0</td>\n",
       "      <td>61.0</td>\n",
       "      <td>65.0</td>\n",
       "      <td>65.205997</td>\n",
       "    </tr>\n",
       "    <tr>\n",
       "      <th>1</th>\n",
       "      <td>1</td>\n",
       "      <td>41.0</td>\n",
       "      <td>35.636548</td>\n",
       "      <td>6.302279</td>\n",
       "      <td>14.119293</td>\n",
       "      <td>-22.658359</td>\n",
       "      <td>6.912916</td>\n",
       "      <td>70.939474</td>\n",
       "      <td>41.480651</td>\n",
       "      <td>76.031059</td>\n",
       "      <td>...</td>\n",
       "      <td>73.0</td>\n",
       "      <td>46.0</td>\n",
       "      <td>46.0</td>\n",
       "      <td>0.0</td>\n",
       "      <td>53.0</td>\n",
       "      <td>62.0</td>\n",
       "      <td>22.0</td>\n",
       "      <td>72.0</td>\n",
       "      <td>8.0</td>\n",
       "      <td>49.676983</td>\n",
       "    </tr>\n",
       "    <tr>\n",
       "      <th>2</th>\n",
       "      <td>2</td>\n",
       "      <td>31.0</td>\n",
       "      <td>26.822800</td>\n",
       "      <td>3.088319</td>\n",
       "      <td>11.129194</td>\n",
       "      <td>-17.764103</td>\n",
       "      <td>4.776086</td>\n",
       "      <td>53.620348</td>\n",
       "      <td>32.146895</td>\n",
       "      <td>57.900690</td>\n",
       "      <td>...</td>\n",
       "      <td>18.0</td>\n",
       "      <td>28.0</td>\n",
       "      <td>44.0</td>\n",
       "      <td>75.0</td>\n",
       "      <td>16.0</td>\n",
       "      <td>3.0</td>\n",
       "      <td>71.0</td>\n",
       "      <td>45.0</td>\n",
       "      <td>18.0</td>\n",
       "      <td>11.557130</td>\n",
       "    </tr>\n",
       "    <tr>\n",
       "      <th>3</th>\n",
       "      <td>3</td>\n",
       "      <td>32.0</td>\n",
       "      <td>27.704175</td>\n",
       "      <td>3.409715</td>\n",
       "      <td>11.428204</td>\n",
       "      <td>-18.253529</td>\n",
       "      <td>4.989769</td>\n",
       "      <td>55.352260</td>\n",
       "      <td>33.080271</td>\n",
       "      <td>59.713727</td>\n",
       "      <td>...</td>\n",
       "      <td>99.0</td>\n",
       "      <td>2.0</td>\n",
       "      <td>21.0</td>\n",
       "      <td>95.0</td>\n",
       "      <td>31.0</td>\n",
       "      <td>23.0</td>\n",
       "      <td>97.0</td>\n",
       "      <td>12.0</td>\n",
       "      <td>47.0</td>\n",
       "      <td>14.632636</td>\n",
       "    </tr>\n",
       "    <tr>\n",
       "      <th>4</th>\n",
       "      <td>4</td>\n",
       "      <td>70.0</td>\n",
       "      <td>61.196414</td>\n",
       "      <td>15.622764</td>\n",
       "      <td>22.790580</td>\n",
       "      <td>-36.851699</td>\n",
       "      <td>13.109720</td>\n",
       "      <td>121.164939</td>\n",
       "      <td>68.548543</td>\n",
       "      <td>128.609132</td>\n",
       "      <td>...</td>\n",
       "      <td>72.0</td>\n",
       "      <td>86.0</td>\n",
       "      <td>99.0</td>\n",
       "      <td>6.0</td>\n",
       "      <td>90.0</td>\n",
       "      <td>39.0</td>\n",
       "      <td>86.0</td>\n",
       "      <td>61.0</td>\n",
       "      <td>84.0</td>\n",
       "      <td>54.682430</td>\n",
       "    </tr>\n",
       "  </tbody>\n",
       "</table>\n",
       "<p>5 rows × 42 columns</p>\n",
       "</div>"
      ],
      "text/plain": [
       "   Unnamed: 0     0          1          2          3          4          5  \\\n",
       "0           0  97.0  84.993531  24.300457  30.863846 -50.066189  18.879159   \n",
       "1           1  41.0  35.636548   6.302279  14.119293 -22.658359   6.912916   \n",
       "2           2  31.0  26.822800   3.088319  11.129194 -17.764103   4.776086   \n",
       "3           3  32.0  27.704175   3.409715  11.428204 -18.253529   4.989769   \n",
       "4           4  70.0  61.196414  15.622764  22.790580 -36.851699  13.109720   \n",
       "\n",
       "            6          7           8    ...        31    32    33    34    35  \\\n",
       "0  167.926580  93.749684  177.561130    ...      42.0  65.0  36.0  34.0  60.0   \n",
       "1   70.939474  41.480651   76.031059    ...      73.0  46.0  46.0   0.0  53.0   \n",
       "2   53.620348  32.146895   57.900690    ...      18.0  28.0  44.0  75.0  16.0   \n",
       "3   55.352260  33.080271   59.713727    ...      99.0   2.0  21.0  95.0  31.0   \n",
       "4  121.164939  68.548543  128.609132    ...      72.0  86.0  99.0   6.0  90.0   \n",
       "\n",
       "     36    37    38    39         40  \n",
       "0  23.0  44.0  61.0  65.0  65.205997  \n",
       "1  62.0  22.0  72.0   8.0  49.676983  \n",
       "2   3.0  71.0  45.0  18.0  11.557130  \n",
       "3  23.0  97.0  12.0  47.0  14.632636  \n",
       "4  39.0  86.0  61.0  84.0  54.682430  \n",
       "\n",
       "[5 rows x 42 columns]"
      ]
     },
     "execution_count": 186,
     "metadata": {},
     "output_type": "execute_result"
    }
   ],
   "source": [
    "data_train.head()"
   ]
  },
  {
   "cell_type": "code",
   "execution_count": 187,
   "metadata": {
    "collapsed": false
   },
   "outputs": [
    {
     "data": {
      "text/plain": [
       "(30, 39)"
      ]
     },
     "execution_count": 187,
     "metadata": {},
     "output_type": "execute_result"
    }
   ],
   "source": [
    "shape(X_train)"
   ]
  },
  {
   "cell_type": "code",
   "execution_count": 188,
   "metadata": {
    "collapsed": false
   },
   "outputs": [
    {
     "data": {
      "text/plain": [
       "LinearRegression(copy_X=True, fit_intercept=True, n_jobs=1, normalize=False)"
      ]
     },
     "execution_count": 188,
     "metadata": {},
     "output_type": "execute_result"
    }
   ],
   "source": [
    "# Create linear regression object\n",
    "regr = linear_model.LinearRegression()\n",
    "\n",
    "# Train the model using the training sets\n",
    "regr.fit(X_train, y_train)"
   ]
  },
  {
   "cell_type": "code",
   "execution_count": 189,
   "metadata": {
    "collapsed": false
   },
   "outputs": [
    {
     "name": "stdout",
     "output_type": "stream",
     "text": [
      "R2 performance for training sample: 0.999999988625\n"
     ]
    }
   ],
   "source": [
    "print ('R2 performance for training sample: {}'.format(regr.score(X_train, y_train)))"
   ]
  },
  {
   "cell_type": "code",
   "execution_count": 190,
   "metadata": {
    "collapsed": false
   },
   "outputs": [
    {
     "name": "stdout",
     "output_type": "stream",
     "text": [
      "R2 performance for test sample: -4.31435989859\n"
     ]
    }
   ],
   "source": [
    "print ('R2 performance for test sample: {}'.format(regr.score(X_test, y_test)))"
   ]
  },
  {
   "cell_type": "markdown",
   "metadata": {},
   "source": [
    "# Task 6 (20% credit). \n",
    "Train Lasso and Ridge regressions using the training sample above with $\\lambda_{Ridge}=40000$ and $\\lambda_{Lasso}=40$ and report their performance over the test set."
   ]
  },
  {
   "cell_type": "code",
   "execution_count": 191,
   "metadata": {
    "collapsed": false
   },
   "outputs": [
    {
     "name": "stdout",
     "output_type": "stream",
     "text": [
      "The R-squared we found for IS Ridge is: 0.844237185406\n",
      "The R-squared we found for OS Ridge is: 0.678556452341\n"
     ]
    }
   ],
   "source": [
    "Ridge=linear_model.Ridge(fit_intercept=True, alpha=40000) \n",
    "\n",
    "Ridge.fit(X_train,y_train)\n",
    "# In the sample:\n",
    "p_IS=Ridge.predict(X_train) # predict X_train for in-sample square, predict X_test for out_sample square...\n",
    "err_IS=p_IS-y_train\n",
    "R_2_IS_Ridge=1-np.var(err_IS)/np.var(y_train)\n",
    "print(\"The R-squared we found for IS Ridge is: {0}\".format(R_2_IS_Ridge))\n",
    "\n",
    "Ridge_coef=Ridge.coef_\n",
    "\n",
    "#Out of sample\n",
    "p_OS=Ridge.predict(X_test)\n",
    "err_OS=p_OS-y_test\n",
    "R_2_OS_Ridge=1-np.var(err_OS)/np.var(y_test)\n",
    "print(\"The R-squared we found for OS Ridge is: {0}\".format(R_2_OS_Ridge))"
   ]
  },
  {
   "cell_type": "code",
   "execution_count": 192,
   "metadata": {
    "collapsed": false
   },
   "outputs": [
    {
     "name": "stdout",
     "output_type": "stream",
     "text": [
      "The R-squared we found for IS Lasso is: 0.844237185406\n",
      "The R-squared we found for OS Lasso is: 0.671937901107\n"
     ]
    }
   ],
   "source": [
    "Lasso=linear_model.Lasso(fit_intercept=True,alpha=40)\n",
    "#try Ridge with a selected regularization parameter lambda\n",
    "\n",
    "Lasso.fit(X_train,y_train)\n",
    "# In the sample:\n",
    "p_IS=Lasso.predict(X_train)\n",
    "err_IS=p_IS-y_train\n",
    "R_2_IS_Lasso=1-np.var(err_IS)/np.var(y_train)\n",
    "print(\"The R-squared we found for IS Lasso is: {0}\".format(R_2_IS_Ridge))\n",
    "\n",
    "Lasso_coef=Lasso.coef_\n",
    "#Out of sample\n",
    "p_OS=Lasso.predict(X_test)\n",
    "err_OS=p_OS-y_test\n",
    "R_2_OS_Lasso=1-np.var(err_OS)/np.var(y_test)\n",
    "print(\"The R-squared we found for OS Lasso is: {0}\".format(R_2_OS_Lasso))"
   ]
  },
  {
   "cell_type": "markdown",
   "metadata": {},
   "source": [
    "# Task 7 (25% credit). \n",
    "For each $m=1,2,...39$ train OLS, Lasso and Ridge regressions using the training sample above with $\\lambda_{Ridge}=40000$ and $\\lambda_{Lasso}=40$ using the first $m$ columns of the data tables as the regressors and plot the in-sample (training) and out-of-sample (test) R2 for all three models on the same graph."
   ]
  },
  {
   "cell_type": "code",
   "execution_count": 204,
   "metadata": {
    "collapsed": true
   },
   "outputs": [],
   "source": [
    "X_train = pd.DataFrame(X_train)\n",
    "X_test = pd.DataFrame(X_test)\n",
    "y_train = pd.DataFrame(y_train)\n",
    "y_test = pd.DataFrame(y_test)"
   ]
  },
  {
   "cell_type": "code",
   "execution_count": 205,
   "metadata": {
    "collapsed": true
   },
   "outputs": [],
   "source": [
    "X_train.columns = ['x0','x1','x2','x3','x4','x5','x6','x7','x8','x9','x10','x11','x12','x13','x14','x15',\n",
    "                'x16','x16','x18','x19','x20','x21','x22','x23','x24','x25','x26','x27','x28','x29','x30'\n",
    "               ,'x31','x32','x33','x34','x35','x36','x37','x38']\n",
    "X_test.columns = ['x0','x1','x2','x3','x4','x5','x6','x7','x8','x9','x10','x11','x12','x13','x14','x15',\n",
    "                'x16','x16','x18','x19','x20','x21','x22','x23','x24','x25','x26','x27','x28','x29','x30'\n",
    "               ,'x31','x32','x33','x34','x35','x36','x37','x38']\n",
    "y_test.columns = ['Y']\n",
    "y_train.columns = ['Y']"
   ]
  },
  {
   "cell_type": "code",
   "execution_count": 206,
   "metadata": {
    "collapsed": false,
    "scrolled": true
   },
   "outputs": [],
   "source": [
    "train = pd.concat([X_train,y_train], axis = 1)\n",
    "test = pd.concat([X_test,y_test], axis = 1)\n",
    "data = pd.concat([train,test], axis = 0)"
   ]
  },
  {
   "cell_type": "code",
   "execution_count": 207,
   "metadata": {
    "collapsed": false
   },
   "outputs": [
    {
     "data": {
      "text/html": [
       "<div>\n",
       "<table border=\"1\" class=\"dataframe\">\n",
       "  <thead>\n",
       "    <tr style=\"text-align: right;\">\n",
       "      <th></th>\n",
       "      <th>x0</th>\n",
       "      <th>x1</th>\n",
       "      <th>x2</th>\n",
       "      <th>x3</th>\n",
       "      <th>x4</th>\n",
       "      <th>x5</th>\n",
       "      <th>x6</th>\n",
       "      <th>x7</th>\n",
       "      <th>x8</th>\n",
       "      <th>x9</th>\n",
       "      <th>...</th>\n",
       "      <th>x30</th>\n",
       "      <th>x31</th>\n",
       "      <th>x32</th>\n",
       "      <th>x33</th>\n",
       "      <th>x34</th>\n",
       "      <th>x35</th>\n",
       "      <th>x36</th>\n",
       "      <th>x37</th>\n",
       "      <th>x38</th>\n",
       "      <th>Y</th>\n",
       "    </tr>\n",
       "  </thead>\n",
       "  <tbody>\n",
       "    <tr>\n",
       "      <th>0</th>\n",
       "      <td>97.0</td>\n",
       "      <td>84.993531</td>\n",
       "      <td>24.300457</td>\n",
       "      <td>30.863846</td>\n",
       "      <td>-50.066189</td>\n",
       "      <td>18.879159</td>\n",
       "      <td>167.926580</td>\n",
       "      <td>93.749684</td>\n",
       "      <td>177.561130</td>\n",
       "      <td>26.967126</td>\n",
       "      <td>...</td>\n",
       "      <td>76.0</td>\n",
       "      <td>42.0</td>\n",
       "      <td>65.0</td>\n",
       "      <td>36.0</td>\n",
       "      <td>34.0</td>\n",
       "      <td>60.0</td>\n",
       "      <td>23.0</td>\n",
       "      <td>44.0</td>\n",
       "      <td>61.0</td>\n",
       "      <td>65.205997</td>\n",
       "    </tr>\n",
       "    <tr>\n",
       "      <th>1</th>\n",
       "      <td>41.0</td>\n",
       "      <td>35.636548</td>\n",
       "      <td>6.302279</td>\n",
       "      <td>14.119293</td>\n",
       "      <td>-22.658359</td>\n",
       "      <td>6.912916</td>\n",
       "      <td>70.939474</td>\n",
       "      <td>41.480651</td>\n",
       "      <td>76.031059</td>\n",
       "      <td>9.942734</td>\n",
       "      <td>...</td>\n",
       "      <td>53.0</td>\n",
       "      <td>73.0</td>\n",
       "      <td>46.0</td>\n",
       "      <td>46.0</td>\n",
       "      <td>0.0</td>\n",
       "      <td>53.0</td>\n",
       "      <td>62.0</td>\n",
       "      <td>22.0</td>\n",
       "      <td>72.0</td>\n",
       "      <td>49.676983</td>\n",
       "    </tr>\n",
       "    <tr>\n",
       "      <th>2</th>\n",
       "      <td>31.0</td>\n",
       "      <td>26.822800</td>\n",
       "      <td>3.088319</td>\n",
       "      <td>11.129194</td>\n",
       "      <td>-17.764103</td>\n",
       "      <td>4.776086</td>\n",
       "      <td>53.620348</td>\n",
       "      <td>32.146895</td>\n",
       "      <td>57.900690</td>\n",
       "      <td>6.902664</td>\n",
       "      <td>...</td>\n",
       "      <td>51.0</td>\n",
       "      <td>18.0</td>\n",
       "      <td>28.0</td>\n",
       "      <td>44.0</td>\n",
       "      <td>75.0</td>\n",
       "      <td>16.0</td>\n",
       "      <td>3.0</td>\n",
       "      <td>71.0</td>\n",
       "      <td>45.0</td>\n",
       "      <td>11.557130</td>\n",
       "    </tr>\n",
       "    <tr>\n",
       "      <th>3</th>\n",
       "      <td>32.0</td>\n",
       "      <td>27.704175</td>\n",
       "      <td>3.409715</td>\n",
       "      <td>11.428204</td>\n",
       "      <td>-18.253529</td>\n",
       "      <td>4.989769</td>\n",
       "      <td>55.352260</td>\n",
       "      <td>33.080271</td>\n",
       "      <td>59.713727</td>\n",
       "      <td>7.206671</td>\n",
       "      <td>...</td>\n",
       "      <td>63.0</td>\n",
       "      <td>99.0</td>\n",
       "      <td>2.0</td>\n",
       "      <td>21.0</td>\n",
       "      <td>95.0</td>\n",
       "      <td>31.0</td>\n",
       "      <td>23.0</td>\n",
       "      <td>97.0</td>\n",
       "      <td>12.0</td>\n",
       "      <td>14.632636</td>\n",
       "    </tr>\n",
       "    <tr>\n",
       "      <th>4</th>\n",
       "      <td>70.0</td>\n",
       "      <td>61.196414</td>\n",
       "      <td>15.622764</td>\n",
       "      <td>22.790580</td>\n",
       "      <td>-36.851699</td>\n",
       "      <td>13.109720</td>\n",
       "      <td>121.164939</td>\n",
       "      <td>68.548543</td>\n",
       "      <td>128.609132</td>\n",
       "      <td>18.758937</td>\n",
       "      <td>...</td>\n",
       "      <td>14.0</td>\n",
       "      <td>72.0</td>\n",
       "      <td>86.0</td>\n",
       "      <td>99.0</td>\n",
       "      <td>6.0</td>\n",
       "      <td>90.0</td>\n",
       "      <td>39.0</td>\n",
       "      <td>86.0</td>\n",
       "      <td>61.0</td>\n",
       "      <td>54.682430</td>\n",
       "    </tr>\n",
       "  </tbody>\n",
       "</table>\n",
       "<p>5 rows × 40 columns</p>\n",
       "</div>"
      ],
      "text/plain": [
       "     x0         x1         x2         x3         x4         x5          x6  \\\n",
       "0  97.0  84.993531  24.300457  30.863846 -50.066189  18.879159  167.926580   \n",
       "1  41.0  35.636548   6.302279  14.119293 -22.658359   6.912916   70.939474   \n",
       "2  31.0  26.822800   3.088319  11.129194 -17.764103   4.776086   53.620348   \n",
       "3  32.0  27.704175   3.409715  11.428204 -18.253529   4.989769   55.352260   \n",
       "4  70.0  61.196414  15.622764  22.790580 -36.851699  13.109720  121.164939   \n",
       "\n",
       "          x7          x8         x9    ...       x30   x31   x32   x33   x34  \\\n",
       "0  93.749684  177.561130  26.967126    ...      76.0  42.0  65.0  36.0  34.0   \n",
       "1  41.480651   76.031059   9.942734    ...      53.0  73.0  46.0  46.0   0.0   \n",
       "2  32.146895   57.900690   6.902664    ...      51.0  18.0  28.0  44.0  75.0   \n",
       "3  33.080271   59.713727   7.206671    ...      63.0  99.0   2.0  21.0  95.0   \n",
       "4  68.548543  128.609132  18.758937    ...      14.0  72.0  86.0  99.0   6.0   \n",
       "\n",
       "    x35   x36   x37   x38          Y  \n",
       "0  60.0  23.0  44.0  61.0  65.205997  \n",
       "1  53.0  62.0  22.0  72.0  49.676983  \n",
       "2  16.0   3.0  71.0  45.0  11.557130  \n",
       "3  31.0  23.0  97.0  12.0  14.632636  \n",
       "4  90.0  39.0  86.0  61.0  54.682430  \n",
       "\n",
       "[5 rows x 40 columns]"
      ]
     },
     "execution_count": 207,
     "metadata": {},
     "output_type": "execute_result"
    }
   ],
   "source": [
    "data.head()"
   ]
  },
  {
   "cell_type": "code",
   "execution_count": 197,
   "metadata": {
    "collapsed": true
   },
   "outputs": [],
   "source": [
    "# An anonymous function that returns your regression model for future usage\n",
    "Regress = lambda feature: smf.ols(formula = 'Y ~ %s'%feature, data = train).fit()\n",
    "\n",
    "# For displaying R^2 and linear model summary\n",
    "def modelEval(lm, key = 'Y'):\n",
    "    lmy = lm.predict(test)\n",
    "    y_err = lmy - test[key]\n",
    "    y_norm = test[key]-np.mean(test[key])\n",
    "    return 1-y_err.dot(y_err)/y_norm.dot(y_norm)  # R2 w.r.t. test set"
   ]
  },
  {
   "cell_type": "code",
   "execution_count": 212,
   "metadata": {
    "collapsed": true
   },
   "outputs": [],
   "source": [
    "y_train=data_train.iloc[:,-1]\n",
    "y_test=data_test.iloc[:,-1]"
   ]
  },
  {
   "cell_type": "code",
   "execution_count": 213,
   "metadata": {
    "collapsed": false
   },
   "outputs": [],
   "source": [
    "y_train.name = (\"Y\")\n",
    "y_test.name = (\"Y\")"
   ]
  },
  {
   "cell_type": "code",
   "execution_count": 199,
   "metadata": {
    "collapsed": true
   },
   "outputs": [],
   "source": [
    "Number_variables=range(len(data.columns[:-1]))"
   ]
  },
  {
   "cell_type": "code",
   "execution_count": 214,
   "metadata": {
    "collapsed": false
   },
   "outputs": [
    {
     "data": {
      "image/png": "[encoded data removed]",
      "text/plain": [
       "<matplotlib.figure.Figure at 0x11aabb790>"
      ]
     },
     "metadata": {},
     "output_type": "display_data"
    }
   ],
   "source": [
    "OLS_R_2_OS_F=[]\n",
    "OLS_R_2_IS_F=[]\n",
    "OLS_R_2_Ridge_OS_F=[]\n",
    "OLS_R_2_Ridge_IS_F=[]\n",
    "OLS_R_2_Lasso_OS_F=[]\n",
    "OLS_R_2_Lasso_IS_F=[]\n",
    "\n",
    "Ridge=linear_model.Ridge(fit_intercept=True,alpha=40000)\n",
    "Lasso=linear_model.Lasso(fit_intercept=True, alpha=40)\n",
    "\n",
    "for j in Number_variables:\n",
    "    # OLS\n",
    "    lm = smf.ols(formula = 'Y ~ '+ '+'.join(data.columns[:j+1]), \n",
    "                 data = pd.concat([X_train.ix[:,:j+1],y_train], axis = 1)).fit()\n",
    "    error = lm.predict(X_test.ix[:,:j+1]) - y_test\n",
    "    R_2_OS_OLS=1-error.var()/y_test.var()\n",
    "    R_2_IS_OLS = lm.rsquared\n",
    "    OLS_R_2_IS_F.append(R_2_IS_OLS)\n",
    "    OLS_R_2_OS_F.append(max(R_2_OS_OLS,0))\n",
    "    \n",
    "    # Ridge\n",
    "    Ridge.fit(X_train.ix[:,:j+1],y_train)\n",
    "    \n",
    "    # In sample:\n",
    "    err_IS=Ridge.predict(X_train.ix[:,:j+1]) - y_train\n",
    "    R_2_IS_Ridge=1-np.var(err_IS)/np.var(y_train)\n",
    "    OLS_R_2_Ridge_IS_F.append(R_2_IS_Ridge)\n",
    "    \n",
    "    #Out of sample\n",
    "    err_OS=Ridge.predict(X_test.ix[:,:j+1]) - y_test\n",
    "    R_2_OS_Ridge=1-np.var(err_OS)/np.var(y_test)\n",
    "    OLS_R_2_Ridge_OS_F.append(max(R_2_OS_Ridge,0))\n",
    "\n",
    "    # Lasso\n",
    "    \n",
    "    Lasso.fit(X_train.ix[:,0:j+1],y_train)\n",
    "    \n",
    "    #In sample:\n",
    "    p_IS=Lasso.predict(X_train.ix[:,0:j+1])\n",
    "    err_IS=p_IS-y_train\n",
    "    R_2_IS_Lasso=1-np.var(err_IS)/np.var(y_train)\n",
    "    OLS_R_2_Lasso_IS_F.append(R_2_IS_Lasso)\n",
    "\n",
    "    #Out of sample\n",
    "    p_OS=Lasso.predict(X_test.ix[:,0:j+1])\n",
    "    err_OS=p_OS-y_test\n",
    "    R_2_OS_Lasso=1-np.var(err_OS)/np.var(y_test)\n",
    "    OLS_R_2_Lasso_OS_F.append(max(R_2_OS_Lasso,0))\n",
    "\n",
    "plt.title('OS performance of OLS when we subsequently add variables')\n",
    "\n",
    "plt.plot(Number_variables,OLS_R_2_IS_F,'g',label='OLS_IS')\n",
    "plt.plot(Number_variables,OLS_R_2_Lasso_IS_F,'y',label='Lasso_IS')\n",
    "plt.plot(Number_variables,OLS_R_2_Ridge_IS_F,'k',label='Ridge_IS')\n",
    "\n",
    "plt.plot(Number_variables,OLS_R_2_OS_F,'b',label='OLS_OS')\n",
    "plt.plot(Number_variables,OLS_R_2_Lasso_OS_F,'c',label='Lasso_OS')\n",
    "plt.plot(Number_variables,OLS_R_2_Ridge_OS_F,'r',label='Ridge_OS')\n",
    "\n",
    "plt.legend(loc='lower right')\n",
    "plt.xlabel('Number of independent variables')\n",
    "plt.ylabel('R-squared')\n",
    "plt.show()"
   ]
  },
  {
   "cell_type": "markdown",
   "metadata": {},
   "source": [
    "# Extracredit (25%)\n",
    "Using a series of 10 random splits (cross-validation) of the training sample into approximately 60% training and 40% validation samples perform the selection of the optimal $\\lambda$ for Ridge and Lasso regression: for each $\\lambda$ of the considered sequence compute an average validation R2 for the 10 splits considered and finally select the $\\lambda$ having the highest value for this average R2. Visualize the dependence of the said average cross-validation R2 over $\\lambda$ for Lasso and Ridge. Report the R2 computed over the test set for the Lasso and Ridge trained over the entire training set with the selected optimal values of $\\lambda$."
   ]
  },
  {
   "cell_type": "code",
   "execution_count": 219,
   "metadata": {
    "collapsed": true
   },
   "outputs": [],
   "source": [
    "## \n",
    "#Find the Alpha and report best test performance for Ridge/Lasso.\n",
    "def Regularization_fit_lambda(model,X_train,y_train,lambdas,p=0.4,Graph=False, logl=False):\n",
    "    #model = 1-Ridge, 2-Lasso\n",
    "    #lambdas: a list of lambda values to try\n",
    "    #p: ratio of the validation sample size / total training size\n",
    "    #Graph: plot the graph of R^2 values for different lambda\n",
    "\n",
    "    R_2_OS=[]\n",
    "    X_train0, X_valid, y_train0, y_valid = train_test_split(X_train,\n",
    "                                    y_train, test_size = 0.4, random_state = 200)\n",
    "\n",
    "    if model==1:\n",
    "        RM = lambda a: linear_model.Ridge(fit_intercept=True, alpha=a)\n",
    "        model_label='Ridge'\n",
    "    else:\n",
    "        RM = lambda a: linear_model.Lasso(fit_intercept=True, alpha=a)\n",
    "        model_label='Lasso'\n",
    "    \n",
    "    best_R2 = -1\n",
    "    best_lambda = lambdas[0]\n",
    "    \n",
    "    for i in lambdas:\n",
    "        lm = RM(i)\n",
    "        lm.fit(X_train0,y_train0)  #fit the regularization model\n",
    "        y_predict=lm.predict(X_valid) #compute the prediction for the validation sample \n",
    "        err_OS=y_predict-y_valid\n",
    "        R_2_OS_=1-np.var(err_OS)/np.var(y_valid)\n",
    "        R_2_OS.append(R_2_OS_)\n",
    "        if R_2_OS_ > best_R2:\n",
    "            best_R2 = R_2_OS_\n",
    "            best_lambda = i\n",
    "    \n",
    "    if Graph==True:\n",
    "        plt.title('Validation R-squared for different Lambda')\n",
    "        if logl:\n",
    "            plt.xlabel('ln(Lambda)')\n",
    "            l=log(lambdas)\n",
    "            bl=log(best_lambda)\n",
    "        else:\n",
    "            plt.xlabel('Lambda')\n",
    "            l=lambdas\n",
    "            bl=best_lambda\n",
    "        plt.plot(l,R_2_OS,'b',label=model_label)\n",
    "        plt.legend(loc='upper right')\n",
    "        plt.ylabel('R-squared')\n",
    "        plt.axvline(bl,color='r',linestyle='--')\n",
    "\n",
    "        plt.show()\n",
    "    \n",
    "    return best_lambda"
   ]
  },
  {
   "cell_type": "code",
   "execution_count": 224,
   "metadata": {
    "collapsed": false
   },
   "outputs": [
    {
     "data": {
      "image/png": "[encoded data removed]",
      "text/plain": [
       "<matplotlib.figure.Figure at 0x11ae70910>"
      ]
     },
     "metadata": {},
     "output_type": "display_data"
    },
    {
     "name": "stdout",
     "output_type": "stream",
     "text": [
      "Optimal lambda for Ridge=690.688165728\n"
     ]
    }
   ],
   "source": [
    "#select best lambda for Ridge\n",
    "lambdas = np.exp(np.linspace(-5,9,200)) ## exponential function increase fast....\n",
    "lambda_r_optimal=Regularization_fit_lambda(1,X_train,y_train,lambdas,p=0.4,Graph=True)\n",
    "print('Optimal lambda for Ridge={0}'.format(lambda_r_optimal))"
   ]
  },
  {
   "cell_type": "code",
   "execution_count": 226,
   "metadata": {
    "collapsed": false
   },
   "outputs": [
    {
     "name": "stdout",
     "output_type": "stream",
     "text": [
      "The R-squared we found for IS Ridge is: 0.928901209277\n",
      "The R-squared we found for OS Ridge is: 0.271608592564\n"
     ]
    }
   ],
   "source": [
    "Ridge = linear_model.Ridge(fit_intercept=True,alpha=lambda_r_optimal) #try Ridge with a selected regularization parameter lambda\n",
    "\n",
    "Ridge.fit(X_train,y_train)\n",
    "# In the sample:\n",
    "p_IS=Ridge.predict(X_train)\n",
    "err_IS=p_IS-y_train\n",
    "R_2_IS_Ridge=1-np.var(err_IS)/np.var(y_train)\n",
    "print(\"The R-squared we found for IS Ridge is: {0}\".format(R_2_IS_Ridge))\n",
    "\n",
    "Ridge_coef=Ridge.coef_\n",
    "#Out of sample\n",
    "p_OS=Ridge.predict(X_test)\n",
    "err_OS=p_OS-y_test\n",
    "R_2_OS_Ridge=1-np.var(err_OS)/np.var(y_test)\n",
    "print(\"The R-squared we found for OS Ridge is: {0}\".format(R_2_OS_Ridge))"
   ]
  },
  {
   "cell_type": "code",
   "execution_count": 227,
   "metadata": {
    "collapsed": false
   },
   "outputs": [
    {
     "name": "stderr",
     "output_type": "stream",
     "text": [
      "/Users/chenhongting/anaconda/lib/python2.7/site-packages/sklearn/linear_model/coordinate_descent.py:479: ConvergenceWarning: Objective did not converge. You might want to increase the number of iterations. Fitting data with very small alpha may cause precision problems.\n",
      "  ConvergenceWarning)\n"
     ]
    },
    {
     "data": {
      "image/png": "[encoded data removed]",
      "text/plain": [
       "<matplotlib.figure.Figure at 0x11ae9dcd0>"
      ]
     },
     "metadata": {},
     "output_type": "display_data"
    },
    {
     "name": "stdout",
     "output_type": "stream",
     "text": [
      "Optimal lambda for Lasso=43.9881200232\n"
     ]
    }
   ],
   "source": [
    "#select lambdas for Lasso \n",
    "lambdas=np.exp(np.linspace(-5,6.5,200))\n",
    "lambda_l_optimal=Regularization_fit_lambda(2,X_train,y_train,lambdas,p=0.4,Graph=True)\n",
    "print('Optimal lambda for Lasso={0}'.format(lambda_l_optimal))"
   ]
  },
  {
   "cell_type": "code",
   "execution_count": 228,
   "metadata": {
    "collapsed": false
   },
   "outputs": [
    {
     "name": "stdout",
     "output_type": "stream",
     "text": [
      "The R-squared we found for IS Lasso is: 0.928901209277\n",
      "The R-squared we found for OS Lasso is: 0.67869427672\n"
     ]
    }
   ],
   "source": [
    "Lasso=linear_model.Lasso(fit_intercept=True,alpha=lambda_l_optimal)\n",
    "#try Ridge with a selected regularization parameter lambda\n",
    "\n",
    "Lasso.fit(X_train,y_train)\n",
    "# In the sample:\n",
    "p_IS=Lasso.predict(X_train)\n",
    "err_IS=p_IS-y_train\n",
    "R_2_IS_Lasso=1-np.var(err_IS)/np.var(y_train)\n",
    "print(\"The R-squared we found for IS Lasso is: {0}\".format(R_2_IS_Ridge))\n",
    "\n",
    "Lasso_coef=Lasso.coef_\n",
    "#Out of sample\n",
    "p_OS=Lasso.predict(X_test)\n",
    "err_OS=p_OS-y_test\n",
    "R_2_OS_Lasso=1-np.var(err_OS)/np.var(y_test)\n",
    "print(\"The R-squared we found for OS Lasso is: {0}\".format(R_2_OS_Lasso))"
   ]
  },
  {
   "cell_type": "code",
   "execution_count": null,
   "metadata": {
    "collapsed": true
   },
   "outputs": [],
   "source": []
  },
  {
   "cell_type": "code",
   "execution_count": null,
   "metadata": {
    "collapsed": true
   },
   "outputs": [],
   "source": []
  },
  {
   "cell_type": "markdown",
   "metadata": {
    "collapsed": true
   },
   "source": [
    "# Best of Luck!!"
   ]
  }
 ],
 "metadata": {
  "anaconda-cloud": {},
  "kernelspec": {
   "display_name": "Python [Root]",
   "language": "python",
   "name": "Python [Root]"
  },
  "language_info": {
   "codemirror_mode": {
    "name": "ipython",
    "version": 2
   },
   "file_extension": ".py",
   "mimetype": "text/x-python",
   "name": "python",
   "nbconvert_exporter": "python",
   "pygments_lexer": "ipython2",
   "version": "2.7.12"
  }
 },
 "nbformat": 4,
 "nbformat_minor": 0
}
